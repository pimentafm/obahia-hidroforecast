{
 "cells": [
  {
   "cell_type": "code",
   "execution_count": 16,
   "id": "statistical-absence",
   "metadata": {},
   "outputs": [],
   "source": [
    "import pandas as pd\n",
    "from pandas import DataFrame\n",
    "import datetime\n",
    "import numpy as np\n",
    "import statsmodels.api as sm\n",
    "import math\n",
    "import julian\n",
    "from datetime import date\n",
    "from dateutil.relativedelta import relativedelta"
   ]
  },
  {
   "cell_type": "code",
   "execution_count": 17,
   "id": "encouraging-dimension",
   "metadata": {},
   "outputs": [],
   "source": [
    "estacao = pd.read_csv('utils/lista_estacoes.csv', sep=',')\n",
    "\n",
    "vazao_output = DataFrame(index=[x for x in range(len(estacao.id))], columns=[\n",
    "                         'Estacao', 'Localizacao', 'Qsup', 'VazaoMinPrev', 'Status', 'isForecast'])\n",
    "\n",
    "now = date(2021, 5, 1)\n",
    "\n",
    "modeldates = [date(2021, 5, 1), date(2021, 6, 1), date(2021, 7, 1)]"
   ]
  },
  {
   "cell_type": "code",
   "execution_count": 24,
   "metadata": {},
   "outputs": [
    {
     "output_type": "execute_result",
     "data": {
      "text/plain": [
       "         id                        localizacao     alfa    q90  vsup\n",
       "0  45590000       Rio Correntina em Correntina -0.00124   23.2   1.0\n",
       "1  45740001             Rio do Meio em Mocambo -0.00216   24.8   9.0\n",
       "2  45770000           Rio Arrojado em Arrojado -0.00106   43.0  14.4\n",
       "3  45840000               Rio Formoso em Gatos -0.00115   54.4  17.2\n",
       "4  45880000  Rio Formoso em Colônia do Formoso -0.00116   55.4  17.4\n",
       "5  45960001         Rio Corrente em Porto Novo -0.00163  138.7  45.2\n",
       "6  46415000         Rio Grande em Sítio Grande -0.00239   19.4  13.2\n",
       "7  46543000  Rio de Ondas em Fazenda Rendenção -0.00236   32.5   9.3\n",
       "8  46590000   Rio Branco em Nova Vida Montante -0.00146   38.2  13.0\n",
       "9  46675000    Rio Grande em Fazenda Macambira -0.00296  132.5  48.4"
      ],
      "text/html": "<div>\n<style scoped>\n    .dataframe tbody tr th:only-of-type {\n        vertical-align: middle;\n    }\n\n    .dataframe tbody tr th {\n        vertical-align: top;\n    }\n\n    .dataframe thead th {\n        text-align: right;\n    }\n</style>\n<table border=\"1\" class=\"dataframe\">\n  <thead>\n    <tr style=\"text-align: right;\">\n      <th></th>\n      <th>id</th>\n      <th>localizacao</th>\n      <th>alfa</th>\n      <th>q90</th>\n      <th>vsup</th>\n    </tr>\n  </thead>\n  <tbody>\n    <tr>\n      <td>0</td>\n      <td>45590000</td>\n      <td>Rio Correntina em Correntina</td>\n      <td>-0.00124</td>\n      <td>23.2</td>\n      <td>1.0</td>\n    </tr>\n    <tr>\n      <td>1</td>\n      <td>45740001</td>\n      <td>Rio do Meio em Mocambo</td>\n      <td>-0.00216</td>\n      <td>24.8</td>\n      <td>9.0</td>\n    </tr>\n    <tr>\n      <td>2</td>\n      <td>45770000</td>\n      <td>Rio Arrojado em Arrojado</td>\n      <td>-0.00106</td>\n      <td>43.0</td>\n      <td>14.4</td>\n    </tr>\n    <tr>\n      <td>3</td>\n      <td>45840000</td>\n      <td>Rio Formoso em Gatos</td>\n      <td>-0.00115</td>\n      <td>54.4</td>\n      <td>17.2</td>\n    </tr>\n    <tr>\n      <td>4</td>\n      <td>45880000</td>\n      <td>Rio Formoso em Colônia do Formoso</td>\n      <td>-0.00116</td>\n      <td>55.4</td>\n      <td>17.4</td>\n    </tr>\n    <tr>\n      <td>5</td>\n      <td>45960001</td>\n      <td>Rio Corrente em Porto Novo</td>\n      <td>-0.00163</td>\n      <td>138.7</td>\n      <td>45.2</td>\n    </tr>\n    <tr>\n      <td>6</td>\n      <td>46415000</td>\n      <td>Rio Grande em Sítio Grande</td>\n      <td>-0.00239</td>\n      <td>19.4</td>\n      <td>13.2</td>\n    </tr>\n    <tr>\n      <td>7</td>\n      <td>46543000</td>\n      <td>Rio de Ondas em Fazenda Rendenção</td>\n      <td>-0.00236</td>\n      <td>32.5</td>\n      <td>9.3</td>\n    </tr>\n    <tr>\n      <td>8</td>\n      <td>46590000</td>\n      <td>Rio Branco em Nova Vida Montante</td>\n      <td>-0.00146</td>\n      <td>38.2</td>\n      <td>13.0</td>\n    </tr>\n    <tr>\n      <td>9</td>\n      <td>46675000</td>\n      <td>Rio Grande em Fazenda Macambira</td>\n      <td>-0.00296</td>\n      <td>132.5</td>\n      <td>48.4</td>\n    </tr>\n  </tbody>\n</table>\n</div>"
     },
     "metadata": {},
     "execution_count": 24
    }
   ],
   "source": [
    "estacao"
   ]
  },
  {
   "cell_type": "code",
   "execution_count": 18,
   "id": "historical-drove",
   "metadata": {},
   "outputs": [],
   "source": [
    "if now in modeldates:\n",
    "    a_month = relativedelta(months=1)\n",
    "    start_date = (now - a_month).strftime('%d/%m/%Y')\n",
    "    end_date = now.strftime('%d/%m/%Y')\n",
    "else:\n",
    "    print('Some error was occurred!')"
   ]
  },
  {
   "cell_type": "code",
   "execution_count": 19,
   "metadata": {},
   "outputs": [],
   "source": [
    "d0 = date(now.year, 1, 1)\n",
    "\n",
    "d2 = date(now.year, 10, 31)\n",
    "\n",
    "a_month = relativedelta(months=1)\n",
    "\n",
    "dt1 = now - relativedelta(days=1)\n",
    "dt = dt1 - d0\n",
    "dt2 = d2 - dt1\n",
    "\n",
    "mes_prev = now.month - 1"
   ]
  },
  {
   "cell_type": "code",
   "execution_count": 27,
   "metadata": {},
   "outputs": [
    {
     "output_type": "stream",
     "name": "stderr",
     "text": [
      "ipykernel_launcher:54: FutureWarning: Sorting because non-concatenation axis is not aligned. A future version\nof pandas will change to not sort by default.\n\nTo accept the future behavior, pass 'sort=False'.\n\nTo retain the current behavior and silence the warning, pass 'sort=True'.\n\nipykernel_launcher:27: DeprecationWarning: The truth value of an empty array is ambiguous. Returning False, but in future this will result in an error. Use `array.size > 0` to check that an array is not empty.\n"
     ]
    }
   ],
   "source": [
    "for est in range(len(estacao.id)):\n",
    " # ler o arquivo e mostrar a separação\n",
    "    dados_telemetria = pd.read_csv(\n",
    "        'filtrado/'+str(estacao.id[est])+'_filtrado.csv', sep=';', encoding='latin-1')\n",
    "    dados_telemetria = pd.DataFrame(dados_telemetria)\n",
    "    dados_telemetria['data'] = pd.to_datetime(dados_telemetria['data'])\n",
    "    dados_telemetria['dia'] = dados_telemetria['data'].dt.dayofyear\n",
    "    dados_telemetria['mes'] = dados_telemetria['data'].dt.month\n",
    "    dados_telemetria.drop(\n",
    "        dados_telemetria.loc[dados_telemetria['vazao diaria'] == 0].index, inplace=True)\n",
    "\n",
    "    alfa_pond = estacao.alfa[est]\n",
    "    q_noventa = estacao.q90[est]\n",
    "    vsup = estacao.vsup[est]\n",
    "\n",
    "    dados_mes_prev = dados_telemetria.loc[(\n",
    "        dados_telemetria['mes'] == mes_prev)]\n",
    "    dados_mes_prev.drop(\n",
    "        dados_mes_prev.loc[dados_mes_prev['vazao diaria'] == 0].index, inplace=True)\n",
    "    dados_mes_prev.drop(dados_mes_prev.loc[dados_mes_prev['vazao diaria']\n",
    "                                           != dados_mes_prev['vazao diaria'].min()].index, inplace=True)\n",
    "    dados_mes_prev.drop(\n",
    "        dados_mes_prev.loc[dados_mes_prev['dia'] != dados_mes_prev['dia'].max()].index, inplace=True)\n",
    "\n",
    "    dia_valor = np.array(dados_mes_prev['dia'])\n",
    "\n",
    "    if not dia_valor:\n",
    "        vazao_output['Estacao'][est] = str(estacao.id[est])\n",
    "        vazao_output['Localizacao'][est] = str(estacao.localizacao[est])\n",
    "        vazao_output['Qsup'][est] = str(estacao.vsup[est])\n",
    "        vazao_output['VazaoMinPrev'][est] = 0.0\n",
    "        vazao_output['Status'][est] = 'Sem previsão'\n",
    "        vazao_output['isForecast'][est] = 'no'\n",
    "        continue\n",
    "\n",
    "        quantidade_dias = dt.days - int(dia_valor) + dt2.days\n",
    "\n",
    "        dia = {}\n",
    "        b = 0\n",
    "        for i in range(quantidade_dias):\n",
    "            dia[str(b)] = dia_valor + i\n",
    "            b = b+1\n",
    "\n",
    "        dia = pd.DataFrame.from_dict(dia, orient='index', columns=['dia_do_ano'])\n",
    "\n",
    "        qo = np.array(dados_mes_prev['vazao diaria'])\n",
    "        to = np.array(dados_mes_prev['dia'])\n",
    "        valor_mask = to[0]\n",
    "        dado_selecionado_mask = dados_mes_prev.loc[(\n",
    "            dados_mes_prev['mes'] == mes_prev)]\n",
    "\n",
    "        dado_selecionado_mask = dado_selecionado_mask.mask(\n",
    "            dado_selecionado_mask['dia'] < valor_mask)\n",
    "        dado_final = pd.concat([dia, dado_selecionado_mask])\n",
    "\n",
    "        dia_periodo = dia['dia_do_ano']\n",
    "        vazao_calculada = {}\n",
    "\n",
    "        k = 0\n",
    "        for dias in range(len(dia_periodo)):\n",
    "            vazao_calculada[str(k)] = (\n",
    "                qo[0]*(np.exp((alfa_pond)*(dia_periodo[dias]-to[0]))))\n",
    "            k = k+1\n",
    "\n",
    "        vazao_feita = pd.DataFrame.from_dict(\n",
    "            vazao_calculada, orient='index', columns=['vazao'])\n",
    "        vazao_minima_prevista = vazao_feita[\"vazao\"].iloc[-1]\n",
    "\n",
    "        if(vsup <= 0.70*vazao_minima_prevista):\n",
    "            status = 'Baixo'\n",
    "        elif (vsup > 0.70*vazao_minima_prevista and vsup <= vazao_minima_prevista):\n",
    "            status = 'Moderado'\n",
    "        else:\n",
    "            status = \"Alto\"\n",
    "\n",
    "        vazao_output['Estacao'][est] = str(estacao.id[est])\n",
    "        vazao_output['Localizacao'][est] = str(estacao.localizacao[est])\n",
    "        vazao_output['Qsup'][est] = str(estacao.vsup[est])\n",
    "        vazao_output['VazaoMinPrev'][est] = vazao_minima_prevista\n",
    "        vazao_output['Status'][est] = status\n",
    "        vazao_output['isForecast'][est] = 'yes'\n",
    "\n",
    "    vazao_output.to_csv('hidroforecast.csv', sep=',')"
   ]
  },
  {
   "cell_type": "code",
   "execution_count": null,
   "metadata": {},
   "outputs": [],
   "source": []
  }
 ],
 "metadata": {
  "kernelspec": {
   "display_name": "Python 3",
   "language": "python",
   "name": "python3"
  },
  "language_info": {
   "codemirror_mode": {
    "name": "ipython",
    "version": 3
   },
   "file_extension": ".py",
   "mimetype": "text/x-python",
   "name": "python",
   "nbconvert_exporter": "python",
   "pygments_lexer": "ipython3",
   "version": "3.7.7"
  }
 },
 "nbformat": 4,
 "nbformat_minor": 5
}