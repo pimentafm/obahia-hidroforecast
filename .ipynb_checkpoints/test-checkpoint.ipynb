{
 "cells": [
  {
   "cell_type": "code",
   "execution_count": 1,
   "id": "visible-violation",
   "metadata": {},
   "outputs": [],
   "source": [
    "import pandas as pd\n",
    "from pandas import DataFrame\n",
    "import datetime\n",
    "import numpy as np\n",
    "import statsmodels.api as sm\n",
    "import math\n",
    "import julian\n",
    "from datetime import date\n",
    "from dateutil.relativedelta import relativedelta"
   ]
  },
  {
   "cell_type": "code",
   "execution_count": 2,
   "id": "experimental-access",
   "metadata": {},
   "outputs": [],
   "source": [
    "estacao = pd.read_csv('utils/lista_estacoes.csv', sep=',')\n",
    "\n",
    "vazao_output = DataFrame(index=[x for x in range(len(estacao))], columns=[\n",
    "                         'Estacao', 'Localizacao', 'Qsup', 'VazaoMinPrev', 'Status'])\n",
    "\n",
    "\n",
    "now = date(2020, 5, 1)  "
   ]
  },
  {
   "cell_type": "code",
   "execution_count": 3,
   "id": "close-emerald",
   "metadata": {},
   "outputs": [],
   "source": [
    "modeldates = [date(2020, 5, 1), date(2020, 6, 1), date(2020, 7, 1)]"
   ]
  },
  {
   "cell_type": "code",
   "execution_count": 4,
   "id": "opening-wages",
   "metadata": {},
   "outputs": [],
   "source": [
    "if now in modeldates:\n",
    "    a_month = relativedelta(months=1)\n",
    "    start_date = (now - a_month).strftime('%d/%m/%Y')\n",
    "    end_date = now.strftime('%d/%m/%Y')\n",
    "else:\n",
    "    print('Some error was occurred!')"
   ]
  },
  {
   "cell_type": "code",
   "execution_count": 5,
   "id": "fewer-hurricane",
   "metadata": {},
   "outputs": [],
   "source": [
    "d0 = date(now.year, 1, 1)\n",
    "\n",
    "d2 = date(now.year, 10, 31)\n",
    "\n",
    "a_month = relativedelta(months=1)\n",
    "\n",
    "dt1 = now - relativedelta(days=1)\n",
    "dt = dt1 - d0\n",
    "dt2 = d2 - dt1\n",
    "\n",
    "mes_prev = now.month - 1"
   ]
  },
  {
   "cell_type": "code",
   "execution_count": 8,
   "id": "foster-casting",
   "metadata": {},
   "outputs": [
    {
     "name": "stderr",
     "output_type": "stream",
     "text": [
      "/home/fernando/.local/lib/python3.7/site-packages/ipykernel_launcher.py:44: FutureWarning: Sorting because non-concatenation axis is not aligned. A future version\n",
      "of pandas will change to not sort by default.\n",
      "\n",
      "To accept the future behavior, pass 'sort=False'.\n",
      "\n",
      "To retain the current behavior and silence the warning, pass 'sort=True'.\n",
      "\n",
      "/home/fernando/.local/lib/python3.7/site-packages/ipykernel_launcher.py:23: DeprecationWarning: The truth value of an empty array is ambiguous. Returning False, but in future this will result in an error. Use `array.size > 0` to check that an array is not empty.\n"
     ]
    }
   ],
   "source": [
    "for est in range(len(estacao.id)):\n",
    "    \n",
    "    # ler o arquivo e mostrar a separação\n",
    "    dados_telemetria = pd.read_csv('filtrado/'+str(estacao.id[est])+'_filtrado.csv', sep=';', encoding='latin-1')\n",
    "    dados_telemetria = pd.DataFrame(dados_telemetria)\n",
    "    dados_telemetria['data'] = pd.to_datetime(dados_telemetria['data'])\n",
    "    dados_telemetria['dia'] = dados_telemetria['data'].dt.dayofyear\n",
    "    dados_telemetria['mes'] = dados_telemetria['data'].dt.month\n",
    "    dados_telemetria.drop(dados_telemetria.loc[dados_telemetria['vazao diaria'] == 0].index, inplace=True)\n",
    "    \n",
    "    alfa_pond = estacao.alfa[est]\n",
    "    q_noventa = estacao.q90[est]\n",
    "    vsup = estacao.vsup[est]\n",
    "\n",
    "    dados_mes_prev = dados_telemetria.loc[(dados_telemetria['mes'] == mes_prev)]\n",
    "    dados_mes_prev.drop(dados_mes_prev.loc[dados_mes_prev['vazao diaria'] == 0].index, inplace=True)\n",
    "    dados_mes_prev.drop(dados_mes_prev.loc[dados_mes_prev['vazao diaria'] != dados_mes_prev['vazao diaria'].min()].index, inplace=True)\n",
    "    dados_mes_prev.drop(dados_mes_prev.loc[dados_mes_prev['dia'] != dados_mes_prev['dia'].max()].index, inplace=True)\n",
    "\n",
    "    dia_valor = np.array(dados_mes_prev['dia'])\n",
    "\n",
    "        \n",
    "    if not dia_valor:\n",
    "        continue\n",
    "            \n",
    "    quantidade_dias = dt.days - int(dia_valor) + dt2.days\n",
    "\n",
    "    dia = {}\n",
    "    b = 0\n",
    "    for i in range(quantidade_dias):\n",
    "        dia[str(b)] = dia_valor + i\n",
    "        b = b+1\n",
    "\n",
    "    dia = pd.DataFrame.from_dict(dia, orient='index', columns=['dia_do_ano'])\n",
    "\n",
    "    qo = np.array(dados_mes_prev['vazao diaria'])\n",
    "    to = np.array(dados_mes_prev['dia'])\n",
    "    valor_mask = to[0]\n",
    "    dado_selecionado_mask = dados_mes_prev.loc[(\n",
    "    dados_mes_prev['mes'] == mes_prev)]\n",
    "\n",
    "    dado_selecionado_mask = dado_selecionado_mask.mask(\n",
    "    dado_selecionado_mask['dia'] < valor_mask)\n",
    "    dado_final = pd.concat([dia, dado_selecionado_mask])\n",
    "\n",
    "    dia_periodo = dia['dia_do_ano']\n",
    "    vazao_calculada = {}\n",
    "    \n",
    "    k = 0\n",
    "    for dias in range(len(dia_periodo)):\n",
    "        vazao_calculada[str(k)] = (qo[0]*(np.exp((alfa_pond)*(dia_periodo[dias]-to[0]))))\n",
    "        k = k+1\n",
    "\n",
    "    vazao_feita = pd.DataFrame.from_dict(\n",
    "    vazao_calculada, orient='index', columns=['vazao'])\n",
    "    vazao_minima_prevista = vazao_feita[\"vazao\"].iloc[-1]\n",
    "\n",
    "    if(vsup <= 0.70*vazao_minima_prevista):\n",
    "        status = 'Baixo'\n",
    "    elif (vsup > 0.70*vazao_minima_prevista and vsup <= vazao_minima_prevista):\n",
    "        status = 'Moderado'\n",
    "    else:\n",
    "        status = \"Alto\"\n",
    "\n",
    "    vazao_output['Estacao'][est] = str(estacao.id[est])\n",
    "    vazao_output['Localizacao'][est] = str(estacao.localizacao[est])\n",
    "    vazao_output['Qsup'][est] = str(estacao.vsup[est])\n",
    "    vazao_output['VazaoMinPrev'][est] = vazao_minima_prevista\n",
    "    vazao_output['Status'][est] = status\n",
    "    \n",
    "    vazao_output.to_csv('hidroforecast'+str(mes_prev)+'.csv', sep=',')\n",
    "\n"
   ]
  },
  {
   "cell_type": "code",
   "execution_count": null,
   "id": "secondary-gasoline",
   "metadata": {},
   "outputs": [],
   "source": []
  }
 ],
 "metadata": {
  "kernelspec": {
   "display_name": "Python 3",
   "language": "python",
   "name": "python3"
  },
  "language_info": {
   "codemirror_mode": {
    "name": "ipython",
    "version": 3
   },
   "file_extension": ".py",
   "mimetype": "text/x-python",
   "name": "python",
   "nbconvert_exporter": "python",
   "pygments_lexer": "ipython3",
   "version": "3.7.7"
  }
 },
 "nbformat": 4,
 "nbformat_minor": 5
}
